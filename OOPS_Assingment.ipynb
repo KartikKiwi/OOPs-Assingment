{
  "nbformat": 4,
  "nbformat_minor": 0,
  "metadata": {
    "colab": {
      "provenance": []
    },
    "kernelspec": {
      "name": "python3",
      "display_name": "Python 3"
    },
    "language_info": {
      "name": "python"
    }
  },
  "cells": [
    {
      "cell_type": "code",
      "execution_count": null,
      "metadata": {
        "id": "Ki3Lz4RrHNpo"
      },
      "outputs": [],
      "source": []
    },
    {
      "cell_type": "markdown",
      "source": [
        "Q1) What is Object-Oriented Programming (OOP)?\n",
        "Ans: Object-Oriented Programming (OOP) is a way of writing code that's organized around objects and classes, rather than just functions and procedures.OOP helps developers create more modular, reusable, and maintainable code.\n",
        "\n",
        "Q2) What is a class in OOP?\n",
        "Ans: In Object-Oriented Programming (OOP), a class is like a blueprint or a template that defines the characteristics and behaviors of an object.\n",
        "\n",
        "Q3) What is an object in OOP?\n",
        "Ans: In OOP, the car is an object, and it's an instance of the \"Car\" class. The class provides the blueprint or template for creating objects, and the object represents a specific instance of that class.\n",
        "\n",
        "Q4) What is the difference between abstraction and encapsulation?\n",
        "Ans: Abstraction is the process of showing only the necessary information to the outside world while hiding the implementation details.\n",
        "\n",
        "Encapsulation is the process of bundling data and methods that operate on that data within a single unit, making it harder for other parts of the program to access or modify the data directly.\n",
        "\n",
        "Q5) What are dunder methods in Python?\n",
        "Ans: In Python, dunder methods (short for \"double underscore\" methods) are special methods that are surrounded by double underscores (__) on either side of the method name. These methods are also known as magic methods or special methods, and they're used to emulate the behavior of built-in types in Python.\n",
        "\n",
        "Q6) Explain the concept of inheritance in OOP?\n",
        "Ans: Inheritance is a fundamental concept in Object-Oriented Programming (OOP) that allows one class to inherit the properties and behavior of another class.\n",
        "\n",
        "7) What is polymorphism in OOP?\n",
        "Ans: In Object-Oriented Programming (OOP), polymorphism is the ability of an object to take on multiple forms, depending on the context.\n",
        "\n",
        "8) How is encapsulation achieved in Python?\n",
        "Ans: In Python, encapsulation is achieved through the use of classes and objects, along with access modifiers. for Ex"
      ],
      "metadata": {
        "id": "SH4_0UN_He93"
      }
    },
    {
      "cell_type": "code",
      "source": [
        "class BankAccount:\n",
        "    def __init__(self, account_number, balance):\n",
        "        self.__account_number = account_number\n",
        "        self.__balance = balance\n",
        "\n",
        "    def get_account_number(self):\n",
        "        return self.__account_number\n",
        "\n",
        "    def get_balance(self):\n",
        "        return self.__balance\n",
        "\n",
        "    def deposit(self, amount):\n",
        "        self.__balance += amount\n",
        "\n",
        "    def withdraw(self, amount):\n",
        "        if amount > self.__balance:\n",
        "            print(\"Insufficient balance!\")\n",
        "        else:\n",
        "            self.__balance -= amount\n",
        "\n",
        "account = BankAccount(\"123456789\", 1000.0)\n",
        "print(account.get_account_number())\n",
        "print(account.get_balance())\n",
        "account.deposit(500.0)\n",
        "print(account.get_balance())\n",
        "account.withdraw(200.0)\n",
        "print(account.get_balance())"
      ],
      "metadata": {
        "colab": {
          "base_uri": "https://localhost:8080/"
        },
        "id": "rDSMM9JnKpXL",
        "outputId": "7a7d644d-82d9-43e6-8a55-cf0929b6ba9e"
      },
      "execution_count": 1,
      "outputs": [
        {
          "output_type": "stream",
          "name": "stdout",
          "text": [
            "123456789\n",
            "1000.0\n",
            "1500.0\n",
            "1300.0\n"
          ]
        }
      ]
    },
    {
      "cell_type": "markdown",
      "source": [
        "Q8) What is a constructor in Python?\n",
        "Ans: In Python, a constructor is a special method that's automatically called when an object is created from a class. It's used to initialize the attributes of the class and set up the object's internal state.\n",
        "\n",
        "Q9) What is a constructor in Python?\n",
        "Ans: In Python, a constructor is a special method that's automatically called when an object is created from a class. This method is used to initialize the attributes of the class and set up the object's internal state.\n",
        "\n",
        "Q10) What are class and static methods in Python?\n",
        "Ans: A static method is a method that's not bound to the class or instance. It's a method that's essentially a function, but defined inside a class.\n",
        "\n",
        "Q11) What is method overloading in Python?\n",
        "Ans: In Python, method overloading is a feature that allows multiple methods with the same name to be defined, but with different parameter lists.\n",
        "\n",
        "Q12) What is method overriding in OOP?\n",
        "Ans: In Object-Oriented Programming (OOP), method overriding is a technique where a subclass provides a different implementation of a method that's already defined in its superclass.\n",
        "\n",
        "13) What is a property decorator in Python?\n",
        "Ans: In Python, a property decorator is a special type of decorator that allows you to customize access to instance variables. It's a way to implement getters, setters, and deleters for your object's attributes.\n",
        "\n",
        "14) Why is polymorphism important in OOP?\n",
        "Ans: Polymorphism is a fundamental concept in Object-Oriented Programming (OOP) that allows objects of different classes to be treated as objects of a common superclass. This enables more flexibility, generic code, and easier maintenance.\n",
        "\n",
        "15) What is an abstract class in Python?\n",
        "Ans: In Python, an abstract class is a class that cannot be instantiated on its own and is designed to be inherited by other classes. Abstract classes provide a way to define a blueprint for other classes to follow, while also allowing for customization and extension.\n",
        "\n",
        "16) What are the advantages of OOP?\n",
        "Ans: Object-Oriented Programming (OOP) provides several advantages like Modularity, Reusability, Abstraction, Inheritance, Polymorphism and many more\n",
        "\n",
        "17) What is the difference between a class variable and an instance variable?\n",
        "Ans: A class variable is a variable that is shared by all instances of a class. It is defined inside the class definition, but outside any instance method. Over that An instance variable is a variable that is unique to each instance of a class. It is defined inside an instance method, typically in the __init__ method.\n",
        "\n",
        "18) What is multiple inheritance in Python?\n",
        "Ans: In Python, multiple inheritance is a feature that allows a class to inherit properties and behavior from more than one parent class. This means that a child class can inherit attributes and methods from multiple parent classes.\n",
        "\n",
        "19) Explain the purpose of ‘’__str__’ and ‘__repr__’ ‘ methods in Python?\n",
        "Ans: The __str__ method has Its primary purpose is to provide a concise and informative string that summarizes the object's essential information. The __repr__ method has Its primary purpose is to provide a detailed and unambiguous string that accurately represents the object's state.\n",
        "\n",
        "20) What is the significance of the ‘super()’ function in Python?\n",
        "Ans: In Python, the super() function is used to access the methods and properties of a parent class from a child class.\n",
        "\n",
        "21) What is the significance of the __del__ method in Python?\n",
        "Ans: In Python, the __del__ method is a special method that's called when an object is want to be destroyed.\n",
        "\n",
        "22) What is the difference between @staticmethod and @classmethod in Python?\n",
        "Ans: A @staticmethod is a method that belongs to a class, rather than an instance of the class. It's essentially a function that's defined inside a class, but it doesn't have access to the class or instance variables. over that A @classmethod is a method that's bound to the class, rather than an instance of the class. It's a method that's called on the class itself, but it has access to the class variables.\n",
        "\n",
        "23) How does polymorphism work in Python with inheritance?\n",
        "Ans: In Python, polymorphism is a fundamental concept in object-oriented programming (OOP) that allows objects of different classes to be treated as objects of a common superclass. With inheritance, polymorphism enables to write code that can work with different classes without knowing their specific details.\n",
        "\n",
        "24)What is method chaining in Python OOP?\n",
        "Ans: In Python Object-Oriented Programming (OOP), method chaining is a technique where multiple methods are called on an object in a single statement, with each method returning the object itself. This allows to perform a series of operations on an object in a concise and readable way.\n",
        "\n",
        "25) What is the purpose of the __call__ method in Python?\n",
        "Ans: In Python, the __call__ method is a special method that allows an object to be called as a function. This method is also known as the callable method."
      ],
      "metadata": {
        "id": "sJbCN9R-K7Ph"
      }
    },
    {
      "cell_type": "markdown",
      "source": [
        "# New section\n",
        "#Practical Quiestions"
      ],
      "metadata": {
        "id": "G9qatrBqRWpm"
      }
    },
    {
      "cell_type": "code",
      "source": [
        "#Q1) Create a parent class Animal with a method speak() that prints a generic message. Create a child class Dog that overrides the speak() method to print \"Bark!\".\n",
        "\n",
        "class Animal:\n",
        "    def speak(self):\n",
        "        print(\"The animal makes a sound.\")\n",
        "\n",
        "class Dog(Animal):\n",
        "    def speak(self):\n",
        "        print(\"Bark!\")\n",
        "my_dog = Dog()\n",
        "my_dog.speak()\n",
        "animal = Animal()\n",
        "animal.speak()"
      ],
      "metadata": {
        "colab": {
          "base_uri": "https://localhost:8080/"
        },
        "id": "9m-bkbQYRfH1",
        "outputId": "2fcfc604-4f1a-45c6-c222-19b92246af02"
      },
      "execution_count": 2,
      "outputs": [
        {
          "output_type": "stream",
          "name": "stdout",
          "text": [
            "Bark!\n",
            "The animal makes a sound.\n"
          ]
        }
      ]
    },
    {
      "cell_type": "code",
      "source": [
        "#Q2) Write a program to create an abstract class Shape with a method area(). Derive classes Circle and Rectangle from it and implement the area() method in both.\n",
        "from abc import ABC, abstractmethod\n",
        "import math\n",
        "\n",
        "class Shape(ABC):\n",
        "    @abstractmethod\n",
        "    def area(self):\n",
        "        pass\n",
        "class Circle(Shape):\n",
        "    def __init__(self, radius):\n",
        "        self.radius = radius\n",
        "\n",
        "    def area(self):\n",
        "        return math.pi * (self.radius ** 2)\n",
        "\n",
        "class Rectangle(Shape):\n",
        "    def __init__(self, width, height):\n",
        "        self.width = width\n",
        "        self.height = height\n",
        "    def area(self):\n",
        "        return self.width * self.height\n",
        "circle = Circle(5)\n",
        "rectangle = Rectangle(4, 6)\n",
        "print(f\"Circle area: {circle.area():.2f}\")\n",
        "print(f\"Rectangle area: {rectangle.area()}\")"
      ],
      "metadata": {
        "colab": {
          "base_uri": "https://localhost:8080/"
        },
        "id": "M4Veeec3SIoz",
        "outputId": "73647af0-6a7e-44bb-9e81-0de18ce9204b"
      },
      "execution_count": 3,
      "outputs": [
        {
          "output_type": "stream",
          "name": "stdout",
          "text": [
            "Circle area: 78.54\n",
            "Rectangle area: 24\n"
          ]
        }
      ]
    },
    {
      "cell_type": "code",
      "source": [
        "#Q3)  Implement a multi-level inheritance scenario where a class Vehicle has an attribute type. Derive a class Car and further derive a class ElectricCar that adds a battery attribute.\n",
        "# Define the base class Vehicle\n",
        "\n",
        "class Vehicle:\n",
        "    def __init__(self, type):\n",
        "        self.type = type\n",
        "\n",
        "    def display_details(self):\n",
        "        print(f\"Vehicle type: {self.type}\")\n",
        "class Car(Vehicle):\n",
        "    def __init__(self, type, brand, model):\n",
        "        super().__init__(type)\n",
        "        self.brand = brand\n",
        "        self.model = model\n",
        "\n",
        "    def display_details(self):\n",
        "        super().display_details()\n",
        "        print(f\"Brand: {self.brand}, Model: {self.model}\")\n",
        "class ElectricCar(Car):\n",
        "    def __init__(self, type, brand, model, battery_capacity):\n",
        "        super().__init__(type, brand, model)\n",
        "        self.battery_capacity = battery_capacity\n",
        "\n",
        "    def display_details(self):\n",
        "        super().display_details()\n",
        "        print(f\"Battery capacity: {self.battery_capacity} kWh\")\n",
        "\n",
        "my_electric_car = ElectricCar(\"Electric\", \"MAHINDRA\", \"B6\", \"UNKNOWN\")\n",
        "my_electric_car.display_details()\n"
      ],
      "metadata": {
        "colab": {
          "base_uri": "https://localhost:8080/"
        },
        "id": "SrFKw3CTSqOk",
        "outputId": "0b0b48cd-3f8c-4fde-c893-50fac1dfd821"
      },
      "execution_count": 5,
      "outputs": [
        {
          "output_type": "stream",
          "name": "stdout",
          "text": [
            "Vehicle type: Electric\n",
            "Brand: MAHINDRA, Model: B6\n",
            "Battery capacity: UNKNOWN kWh\n"
          ]
        }
      ]
    },
    {
      "cell_type": "code",
      "source": [
        "#Q4) Demonstrate polymorphism by creating a base class Bird with a method fly(). Create two derived classes Sparrow and Penguin that override the fly() method.\n",
        "# Define the base class Bird\n",
        "class Bird:\n",
        "    def fly(self):\n",
        "        print(\"The bird is flying.\")\n",
        "\n",
        "class Sparrow(Bird):\n",
        "    def fly(self):\n",
        "        print(\"The sparrow is flying quickly and erratically.\")\n",
        "\n",
        "class Penguin(Bird):\n",
        "    def fly(self):\n",
        "        print(\"The penguin cannot fly, but it can swim quickly.\")\n",
        "\n",
        "birds = [Sparrow(), Penguin(), Bird()]\n",
        "\n",
        "for bird in birds:\n",
        "    bird.fly()"
      ],
      "metadata": {
        "colab": {
          "base_uri": "https://localhost:8080/"
        },
        "id": "v96q1GkbTm7w",
        "outputId": "c7532f05-bd29-4295-de0a-75c1493a55c6"
      },
      "execution_count": 6,
      "outputs": [
        {
          "output_type": "stream",
          "name": "stdout",
          "text": [
            "The sparrow is flying quickly and erratically.\n",
            "The penguin cannot fly, but it can swim quickly.\n",
            "The bird is flying.\n"
          ]
        }
      ]
    },
    {
      "cell_type": "code",
      "source": [
        "#Q5)  Write a program to demonstrate encapsulation by creating a class BankAccount with private attributes balance and methods to deposit, withdraw, and check balance.\n",
        "\n",
        "class BankAccount:\n",
        "    def __init__(self, initial_balance=0):\n",
        "        self.__balance = initial_balance\n",
        "\n",
        "    def deposit(self, amount):\n",
        "        if amount > 0:\n",
        "            self.__balance += amount\n",
        "            print(f\"Deposited ${amount:.2f}. Current balance: ${self.__balance:.2f}\")\n",
        "        else:\n",
        "            print(\"Invalid deposit amount.\")\n",
        "\n",
        "    def withdraw(self, amount):\n",
        "        if 0 < amount <= self.__balance:\n",
        "            self.__balance -= amount\n",
        "            print(f\"Withdrew ${amount:.2f}. Current balance: ${self.__balance:.2f}\")\n",
        "        else:\n",
        "            print(\"Invalid withdrawal amount.\")\n",
        "\n",
        "    def check_balance(self):\n",
        "        print(f\"Current balance: ${self.__balance:.2f}\")\n",
        "\n",
        "account = BankAccount(1000)\n",
        "\n",
        "account.deposit(500)\n",
        "account.withdraw(200)\n",
        "account.check_balance()\n",
        "try:\n",
        "    print(account.__balance)\n",
        "except AttributeError:\n",
        "    print(\"Error: Cannot access private attribute directly.\")\n"
      ],
      "metadata": {
        "colab": {
          "base_uri": "https://localhost:8080/"
        },
        "id": "RycamnrHUFHG",
        "outputId": "a0886f25-0003-4733-f6a0-d5ab4257fc4d"
      },
      "execution_count": 7,
      "outputs": [
        {
          "output_type": "stream",
          "name": "stdout",
          "text": [
            "Deposited $500.00. Current balance: $1500.00\n",
            "Withdrew $200.00. Current balance: $1300.00\n",
            "Current balance: $1300.00\n",
            "Error: Cannot access private attribute directly.\n"
          ]
        }
      ]
    },
    {
      "cell_type": "code",
      "source": [
        "#Q6) Demonstrate runtime polymorphism using a method play() in a base class Instrument. Derive classes Guitar and Piano that implement their own version of play().\n",
        "\n",
        "class Instrument:\n",
        "    def play(self):\n",
        "        print(\"The instrument is playing.\")\n",
        "\n",
        "class Guitar(Instrument):\n",
        "    def play(self):\n",
        "        print(\"The guitar is strumming.\")\n",
        "\n",
        "class Piano(Instrument):\n",
        "    def play(self):\n",
        "        print(\"The piano is playing a melody.\")\n",
        "\n",
        "instruments = [Guitar(), Piano(), Instrument()]\n",
        "\n",
        "for instrument in instruments:\n",
        "    instrument.play()"
      ],
      "metadata": {
        "colab": {
          "base_uri": "https://localhost:8080/"
        },
        "id": "Fy2bvrySUoC-",
        "outputId": "14594aa4-2289-4243-f2c1-07724d8ecca0"
      },
      "execution_count": 8,
      "outputs": [
        {
          "output_type": "stream",
          "name": "stdout",
          "text": [
            "The guitar is strumming.\n",
            "The piano is playing a melody.\n",
            "The instrument is playing.\n"
          ]
        }
      ]
    },
    {
      "cell_type": "code",
      "source": [
        "#Q7) Create a class MathOperations with a class method add_numbers() to add two numbers and a static method subtract_numbers() to subtract two numbers.\n",
        "\n",
        "class MathOperations:\n",
        "    @classmethod\n",
        "    def add_numbers(cls, num1, num2):\n",
        "        return num1 + num2\n",
        "\n",
        "    @staticmethod\n",
        "    def subtract_numbers(num1, num2):\n",
        "        return num1 - num2\n",
        "\n",
        "result_subtract = MathOperations.subtract_numbers(10, 5)\n",
        "print(f\"Result of subtraction: {result_subtract}\")"
      ],
      "metadata": {
        "colab": {
          "base_uri": "https://localhost:8080/"
        },
        "id": "AnlXeBCuVAXO",
        "outputId": "8a0934f9-ffe9-4935-a15d-c85dbe0ecb87"
      },
      "execution_count": 13,
      "outputs": [
        {
          "output_type": "stream",
          "name": "stdout",
          "text": [
            "Result of subtraction: 5\n"
          ]
        }
      ]
    },
    {
      "cell_type": "code",
      "source": [
        "#Q8) Implement a class Person with a class method to count the total number of persons created.\n",
        "\n",
        "class Person:\n",
        "    person_count = 0\n",
        "\n",
        "    def __init__(self, name, age):\n",
        "        self.name = name\n",
        "        self.age = age\n",
        "        Person.person_count += 1\n",
        "\n",
        "    @classmethod\n",
        "    def get_person_count(cls):\n",
        "        return cls.person_count\n",
        "\n",
        "person1 = Person(\"Kartik\", 27)\n",
        "person2 = Person(\"Virat\", 33)\n",
        "person3 = Person(\"Ethan hunt\", 60)\n",
        "\n",
        "total_persons = Person.get_person_count()\n",
        "print(f\"Total persons created: {total_persons}\")\n"
      ],
      "metadata": {
        "colab": {
          "base_uri": "https://localhost:8080/"
        },
        "id": "p1HpR01DVtd2",
        "outputId": "49195a1a-051c-4536-f0d3-d6150b6b805e"
      },
      "execution_count": 18,
      "outputs": [
        {
          "output_type": "stream",
          "name": "stdout",
          "text": [
            "Total persons created: 3\n"
          ]
        }
      ]
    },
    {
      "cell_type": "code",
      "source": [
        "#Q9) Write a class Fraction with attributes numerator and denominator. Override the str method to display the fraction as \"numerator/denominator\".\n",
        "\n",
        "class Fraction:\n",
        "    def __init__(self, numerator, denominator):\n",
        "        if denominator == 0:\n",
        "            raise ValueError(\"Denominator cannot be zero.\")\n",
        "        self.numerator = numerator\n",
        "        self.denominator = denominator\n",
        "    def __str__(self):\n",
        "        return f\"{self.numerator}/{self.denominator}\"\n",
        "fraction = Fraction(3, 4)\n",
        "print(fraction)"
      ],
      "metadata": {
        "colab": {
          "base_uri": "https://localhost:8080/"
        },
        "id": "F5-AdTGGWd85",
        "outputId": "de28ff7c-858f-4bc7-93f0-8e9c33c8701c"
      },
      "execution_count": 19,
      "outputs": [
        {
          "output_type": "stream",
          "name": "stdout",
          "text": [
            "3/4\n"
          ]
        }
      ]
    },
    {
      "cell_type": "code",
      "source": [
        "#Q10) Demonstrate operator overloading by creating a class Vector and overriding the add method to add two vectors.\n",
        "\n",
        "class Vector:\n",
        "    def __init__(self, x, y):\n",
        "        self.x = x\n",
        "        self.y = y\n",
        "\n",
        "    def __add__(self, other):\n",
        "        if isinstance(other, Vector):\n",
        "            return Vector(self.x + other.x, self.y + other.y)\n",
        "        else:\n",
        "            raise TypeError(\"Both operands must be vectors.\")\n",
        "\n",
        "    def __str__(self):\n",
        "        return f\"({self.x}, {self.y})\"\n",
        "\n",
        "vector1 = Vector(2, 3)\n",
        "vector2 = Vector(4, 5)\n",
        "result_vector = vector1 + vector2\n",
        "print(f\"Vector 1: {vector1}\")\n",
        "print(f\"Vector 2: {vector2}\")\n",
        "print(f\"Result Vector: {result_vector}\")"
      ],
      "metadata": {
        "colab": {
          "base_uri": "https://localhost:8080/"
        },
        "id": "ejcgnWjdW2DY",
        "outputId": "b7081bc5-ff43-4a6e-ab1e-bd7bc67fb2c1"
      },
      "execution_count": 20,
      "outputs": [
        {
          "output_type": "stream",
          "name": "stdout",
          "text": [
            "Vector 1: (2, 3)\n",
            "Vector 2: (4, 5)\n",
            "Result Vector: (6, 8)\n"
          ]
        }
      ]
    },
    {
      "cell_type": "code",
      "source": [
        "#Q11) Create a class Person with attributes name and age. Add a method greet() that prints \"Hello, my name is {name} and I am {age} years old.\"\n",
        "\n",
        "class Person:\n",
        "    def __init__(self, name, age):\n",
        "        self.name = name\n",
        "        self.age = age\n",
        "\n",
        "    def greet(self):\n",
        "        print(f\"Hello, my name is {self.name} and I am {self.age} years old.\")\n",
        "\n",
        "person = Person(\"Kartik Raysing\", 27)\n",
        "person.greet()"
      ],
      "metadata": {
        "colab": {
          "base_uri": "https://localhost:8080/"
        },
        "id": "PGdz13BtXVRc",
        "outputId": "149c8daa-2d28-460a-c363-af7cde43f098"
      },
      "execution_count": 21,
      "outputs": [
        {
          "output_type": "stream",
          "name": "stdout",
          "text": [
            "Hello, my name is Kartik Raysing and I am 27 years old.\n"
          ]
        }
      ]
    },
    {
      "cell_type": "code",
      "source": [
        "#Q12) Implement a class Student with attributes name and grades. Create a method average_grade() to compute the average of the grades.\n",
        "\n",
        "class Student:\n",
        "    def __init__(self, name, grades=None):\n",
        "        self.name = name\n",
        "        self.grades = grades if grades is not None else []\n",
        "\n",
        "    def add_grade(self, grade):\n",
        "        self.grades.append(grade)\n",
        "\n",
        "    def average_grade(self):\n",
        "        if not self.grades:\n",
        "            return 0\n",
        "        return sum(self.grades) / len(self.grades)\n",
        "\n",
        "student = Student(\"Kartik Raysing\")\n",
        "\n",
        "student.add_grade(85)\n",
        "student.add_grade(90)\n",
        "student.add_grade(75)\n",
        "\n",
        "average = student.average_grade()\n",
        "print(f\"Average grade for {student.name}: {average:.2f}\")"
      ],
      "metadata": {
        "colab": {
          "base_uri": "https://localhost:8080/"
        },
        "id": "r1syRy6cXqs7",
        "outputId": "8849cbfa-3f2a-4f76-b0c4-fe57aec36072"
      },
      "execution_count": 22,
      "outputs": [
        {
          "output_type": "stream",
          "name": "stdout",
          "text": [
            "Average grade for Kartik Raysing: 83.33\n"
          ]
        }
      ]
    },
    {
      "cell_type": "code",
      "source": [
        "#Q13)  Create a class Rectangle with methods set_dimensions() to set the dimensions and area() to calculate the area.\n",
        "\n",
        "class Rectangle:\n",
        "    def __init__(self):\n",
        "        self.width = 0\n",
        "        self.height = 0\n",
        "\n",
        "    def set_dimensions(self, width, height):\n",
        "        if width <= 0 or height <= 0:\n",
        "            raise ValueError(\"Width and height must be positive numbers.\")\n",
        "        self.width = width\n",
        "        self.height = height\n",
        "\n",
        "    def area(self):\n",
        "        return self.width * self.height\n",
        "\n",
        "rectangle = Rectangle()\n",
        "\n",
        "rectangle.set_dimensions(5, 10)\n",
        "\n",
        "area = rectangle.area()\n",
        "print(f\"Area of the rectangle: {area}\")"
      ],
      "metadata": {
        "colab": {
          "base_uri": "https://localhost:8080/"
        },
        "id": "raiUqNlrYGFf",
        "outputId": "ff66ff38-0338-423d-9d74-6fd1bb00b7f7"
      },
      "execution_count": 23,
      "outputs": [
        {
          "output_type": "stream",
          "name": "stdout",
          "text": [
            "Area of the rectangle: 50\n"
          ]
        }
      ]
    },
    {
      "cell_type": "code",
      "source": [
        "#Q14) Create a class Employee with a method calculate_salary() that computes the salary based on hours worked and hourly rate. Create a derived class Manager that adds a bonus to the salary.\n",
        "\n",
        "class Employee:\n",
        "    def __init__(self, name, hours_worked, hourly_rate):\n",
        "        self.name = name\n",
        "        self.hours_worked = hours_worked\n",
        "        self.hourly_rate = hourly_rate\n",
        "\n",
        "    def calculate_salary(self):\n",
        "        return self.hours_worked * self.hourly_rate\n",
        "\n",
        "class Manager(Employee):\n",
        "    def __init__(self, name, hours_worked, hourly_rate, bonus):\n",
        "        super().__init__(name, hours_worked, hourly_rate)\n",
        "        self.bonus = bonus\n",
        "\n",
        "    def calculate_salary(self):\n",
        "        return super().calculate_salary() + self.bonus\n",
        "\n",
        "employee = Employee(\"Kartik Raysing\", 40, 50)\n",
        "print(f\"Employee {employee.name}'s salary: ${employee.calculate_salary():.2f}\")\n",
        "\n",
        "manager = Manager(\"MNC Company\", 40, 60, 1000)\n",
        "print(f\"Manager {manager.name}'s salary: ${manager.calculate_salary():.2f}\")"
      ],
      "metadata": {
        "colab": {
          "base_uri": "https://localhost:8080/"
        },
        "id": "TQdNw2msYc6g",
        "outputId": "bc720d6b-bc28-4e2d-e468-56034d7bacf5"
      },
      "execution_count": 25,
      "outputs": [
        {
          "output_type": "stream",
          "name": "stdout",
          "text": [
            "Employee Kartik Raysing's salary: $2000.00\n",
            "Manager MNC Company's salary: $3400.00\n"
          ]
        }
      ]
    },
    {
      "cell_type": "code",
      "source": [
        "#Q15) Create a class Product with attributes name, price, and quantity. Implement a method total_price() that calculates the total price of the product.\n",
        "\n",
        "class Product:\n",
        "    def __init__(self, name, price, quantity):\n",
        "        self.name = name\n",
        "        self.price = price\n",
        "        self.quantity = quantity\n",
        "\n",
        "    def total_price(self):\n",
        "        return self.price * self.quantity\n",
        "\n",
        "product = Product(\"PW Skills Data Analytics Course\", 20000, 2)\n",
        "\n",
        "print(f\"Product Name: {product.name}\")\n",
        "print(f\"Price: ${product.price:.2f}\")\n",
        "print(f\"Quantity: {product.quantity}\")\n",
        "\n",
        "total = product.total_price()\n",
        "print(f\"Total Price: ${total:.2f}\")"
      ],
      "metadata": {
        "colab": {
          "base_uri": "https://localhost:8080/"
        },
        "id": "oClJGmCwY9lE",
        "outputId": "1cf9a9d2-dc93-440b-9e35-c521a8ed8e62"
      },
      "execution_count": 29,
      "outputs": [
        {
          "output_type": "stream",
          "name": "stdout",
          "text": [
            "Product Name: PW Skills Data Analytics Course\n",
            "Price: $20000.00\n",
            "Quantity: 2\n",
            "Total Price: $40000.00\n"
          ]
        }
      ]
    },
    {
      "cell_type": "code",
      "source": [
        "#Q16) Create a class Animal with an abstract method sound(). Create two derived classes Cow and Sheep that implement the sound() method.\n",
        "\n",
        "from abc import ABC, abstractmethod\n",
        "\n",
        "class Animal(ABC):\n",
        "    @abstractmethod\n",
        "    def sound(self):\n",
        "        pass\n",
        "class Lion(Animal):\n",
        "    def sound(self):\n",
        "        return \"Roar!\"\n",
        "class Sheep(Animal):\n",
        "    def sound(self):\n",
        "        return \"Baa!\"\n",
        "\n",
        "Lion = Lion()\n",
        "sheep = Sheep()\n",
        "\n",
        "print(f\"Lion says: {Lion.sound()}\")\n",
        "print(f\"Sheep says: {sheep.sound()}\")\n"
      ],
      "metadata": {
        "colab": {
          "base_uri": "https://localhost:8080/"
        },
        "id": "a86jWebZZmGL",
        "outputId": "ff00277b-1ffd-4bd6-ee56-683fc5f97ada"
      },
      "execution_count": 36,
      "outputs": [
        {
          "output_type": "stream",
          "name": "stdout",
          "text": [
            "Lion says: Roar!\n",
            "Sheep says: Baa!\n"
          ]
        }
      ]
    },
    {
      "cell_type": "code",
      "source": [
        "#Q17) Create a class Book with attributes title, author, and year_published. Add a method get_book_info() thatreturns a formatted string with the book's details.\n",
        "\n",
        "class Book:\n",
        "    def __init__(self, title, author, year_published):\n",
        "        self.title = title\n",
        "        self.author = author\n",
        "        self.year_published = year_published\n",
        "\n",
        "    def get_book_info(self):\n",
        "        return f\"'{self.title}' by {self.author}, published in {self.year_published}.\"\n",
        "\n",
        "book = Book(\"Mahabharat\", \"Shri Krishna\", \"Five Thousand Years Ago, from 2025\")\n",
        "\n",
        "book_info = book.get_book_info()\n",
        "print(book_info)"
      ],
      "metadata": {
        "colab": {
          "base_uri": "https://localhost:8080/"
        },
        "id": "9fTHJDirae7z",
        "outputId": "8b0c20d8-a704-4f8f-b5c7-0bcd4d33e4f5"
      },
      "execution_count": 39,
      "outputs": [
        {
          "output_type": "stream",
          "name": "stdout",
          "text": [
            "'Mahabharat' by Shri Krishna, published in Five Thousand Years Ago, from 2025.\n"
          ]
        }
      ]
    },
    {
      "cell_type": "code",
      "source": [
        "#Q18) Create a class House with attributes address and price. Create a derived class Mansion that adds an attribute number_of_rooms.\n",
        "\n",
        "class House:\n",
        "    def __init__(self, address, price):\n",
        "        self.address = address\n",
        "        self.price = price\n",
        "\n",
        "    def display_details(self):\n",
        "        return f\"Address: {self.address}\\nPrice: ${self.price:.2f}\"\n",
        "\n",
        "class Mansion(House):\n",
        "    def __init__(self, address, price, number_of_rooms):\n",
        "        super().__init__(address, price)\n",
        "        self.number_of_rooms = number_of_rooms\n",
        "\n",
        "    def display_details(self):\n",
        "        return f\"{super().display_details()}\\nNumber of Rooms: {self.number_of_rooms}\"\n",
        "\n",
        "house = House(\"106, Baner, Pune\", 250000)\n",
        "print(\"House Details:\")\n",
        "print(house.display_details())\n",
        "\n",
        "mansion = Mansion(\"23/1B, Balewadi, Pune\", 1000000, 7)\n",
        "print(\"\\nMansion Details:\")\n",
        "print(mansion.display_details())"
      ],
      "metadata": {
        "colab": {
          "base_uri": "https://localhost:8080/"
        },
        "id": "qzD_983NbD_J",
        "outputId": "8df73a7a-79c7-4ba1-e9a8-43d57457affe"
      },
      "execution_count": 45,
      "outputs": [
        {
          "output_type": "stream",
          "name": "stdout",
          "text": [
            "House Details:\n",
            "Address: 106, Baner, Pune\n",
            "Price: $250000.00\n",
            "\n",
            "Mansion Details:\n",
            "Address: 23/1B, Balewadi, Pune\n",
            "Price: $1000000.00\n",
            "Number of Rooms: 7\n"
          ]
        }
      ]
    }
  ]
}